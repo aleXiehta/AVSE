{
 "cells": [
  {
   "cell_type": "code",
   "execution_count": 41,
   "metadata": {},
   "outputs": [],
   "source": [
    "import random\n",
    "import numpy as np\n",
    "import matplotlib.pyplot as plt\n",
    "from scipy import signal\n",
    "from scipy.io import wavfile\n",
    "%matplotlib inline"
   ]
  },
  {
   "cell_type": "code",
   "execution_count": 42,
   "metadata": {},
   "outputs": [],
   "source": [
    "# read source and noise\n",
    "sr, s = wavfile.read('dataset/sp01_001/audio/clean/sp01_001.wav')\n",
    "sr, a = wavfile.read('source_noise/91_types_noises/128_n40.wav')\n",
    "sr, c = wavfile.read('source_noise/14_car_IDL_35U_35D_55U_55D.wav')"
   ]
  },
  {
   "cell_type": "code",
   "execution_count": 43,
   "metadata": {},
   "outputs": [
    {
     "data": {
      "text/plain": [
       "(63147, 1280000, 3200000)"
      ]
     },
     "execution_count": 43,
     "metadata": {},
     "output_type": "execute_result"
    }
   ],
   "source": [
    "s.shape[0], a.shape[0], c.shape[0]"
   ]
  },
  {
   "cell_type": "code",
   "execution_count": 44,
   "metadata": {},
   "outputs": [],
   "source": [
    "a = a[:s.shape[0] - 1920]\n",
    "c = c[:s.shape[0] - 2303]"
   ]
  },
  {
   "cell_type": "code",
   "execution_count": 45,
   "metadata": {},
   "outputs": [],
   "source": [
    "def mix_wav(source, ambient, car):\n",
    "        snr_ambient = random.randint(-5, 10)\n",
    "        snr_car = random.randint(-5, 10)\n",
    "        \n",
    "        source_len, ambient_len, car_len = source.shape[0], ambient.shape[0], car.shape[0]\n",
    "        \n",
    "        # Pad wave sequences\n",
    "        if ambient_len > source_len:\n",
    "            start_idx = random.randint(0, ambient_len - source_len)\n",
    "            ambient = ambient[start_idx:start_idx + source_len]\n",
    "        \n",
    "        elif ambient_len < source_len:\n",
    "            front = random.randint(0, source_len - ambient_len - 1)\n",
    "            rear = source_len - ambient_len - front\n",
    "            ambient = np.pad(ambient, (front, rear), 'wrap')\n",
    "            \n",
    "        if car_len > source_len:\n",
    "            start_idx = random.randint(0, car_len - source_len)\n",
    "            car = car[start_idx:start_idx + source_len]\n",
    "        \n",
    "        elif car_len < source_len:\n",
    "            front = random.randint(0, source_len - ambient_len - 1)\n",
    "            rear = source_len - car_len - front\n",
    "            car = np.pad(car, (front, rear), 'wrap')\n",
    "        \n",
    "        assert source.shape[0] == ambient.shape[0] == car.shape[0]\n",
    "\n",
    "        source_amp = sum(abs(source)) / len(source)\n",
    "\n",
    "        ambient_amp = source_amp / (10 ** (snr_ambient / 20))\n",
    "        car_amp = source_amp / (10 ** (snr_car / 20))\n",
    "        ambient_norm = (ambient - ambient.mean()) / ambient.std()\n",
    "        car_norm = (car - car.mean()) / car.std()\n",
    "\n",
    "        ambient_scaled = ambient_amp * ambient_norm + ambient.mean()\n",
    "        car_scaled = car_amp * car_norm + car.mean()\n",
    "\n",
    "        mixed = source + ambient_scaled + car_scaled\n",
    "\n",
    "        return mixed.astype(np.int16)"
   ]
  },
  {
   "cell_type": "code",
   "execution_count": 50,
   "metadata": {},
   "outputs": [],
   "source": [
    "mixed = mix_wav(s, a, c)"
   ]
  },
  {
   "cell_type": "code",
   "execution_count": 51,
   "metadata": {},
   "outputs": [],
   "source": [
    "wavfile.write('mixed.wav', sr, mixed)"
   ]
  },
  {
   "cell_type": "code",
   "execution_count": null,
   "metadata": {},
   "outputs": [],
   "source": []
  }
 ],
 "metadata": {
  "kernelspec": {
   "display_name": "Python 3",
   "language": "python",
   "name": "python3"
  },
  "language_info": {
   "codemirror_mode": {
    "name": "ipython",
    "version": 3
   },
   "file_extension": ".py",
   "mimetype": "text/x-python",
   "name": "python",
   "nbconvert_exporter": "python",
   "pygments_lexer": "ipython3",
   "version": "3.6.7"
  }
 },
 "nbformat": 4,
 "nbformat_minor": 2
}
